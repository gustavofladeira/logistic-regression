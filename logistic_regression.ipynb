{
 "cells": [
  {
   "cell_type": "markdown",
   "metadata": {},
   "source": [
    "### Theoretical explanation of logistic regression"
   ]
  },
  {
   "cell_type": "markdown",
   "metadata": {},
   "source": [
    "### Implementation"
   ]
  },
  {
   "cell_type": "code",
   "execution_count": 33,
   "metadata": {},
   "outputs": [],
   "source": [
    "import numpy as np\n",
    "\n",
    "class logistic_regression:\n",
    "\n",
    "    def __init__(self, learning_rate=0.01, iterations=1000):\n",
    "        self.learning_rate = learning_rate\n",
    "        self.iterations = iterations\n",
    "        self.weights = None\n",
    "        self.bias = None\n",
    "\n",
    "    def sigmoid(self, x):\n",
    "        return 1/(1+np.exp(-x))\n",
    "    \n",
    "    def fit(self, X, y):\n",
    "\n",
    "        num_rows, num_columns = X.shape\n",
    "\n",
    "        # parameters between 0 and 1\n",
    "        self.weights = np.random.rand(num_columns)\n",
    "        self.bias = np.random.rand()\n",
    "\n",
    "        # iterating\n",
    "        for _ in range(self.iterations):\n",
    "            # linear model output\n",
    "            linear_model = np.dot(X, self.weights) + self.bias\n",
    "\n",
    "            # input into the sigmoid function\n",
    "            y_predicted = self.sigmoid(linear_model)\n",
    "\n",
    "            # gradients for parameters\n",
    "            dw = (1/num_rows) * np.dot(X.T, (y_predicted - y))\n",
    "            db = (1/num_rows) * np.sum(y_predicted - y)\n",
    "\n",
    "            # update parameters\n",
    "            self.weights -= self.learning_rate*dw\n",
    "            self.bias -= self.bias*db\n",
    "\n",
    "    def predict(self, X):\n",
    "        # linear model output\n",
    "        linear_model = np.dot(X, self.weights) + self.bias\n",
    "\n",
    "        # input into the sigmoid function\n",
    "        y_predicted = self.sigmoid(linear_model)\n",
    "\n",
    "        # binary predictions based on the probabilities\n",
    "        y_predicted_class = [1 if i > 0.5 else 0 for i in y_predicted]\n",
    "\n",
    "        # return the predictions\n",
    "        return np.array(y_predicted_class)"
   ]
  },
  {
   "cell_type": "markdown",
   "metadata": {},
   "source": [
    "### Testing\n",
    "\n",
    "Now, we’ll test our custom-built algorithm and compare its performance to scikit-learn's Logistic Regression model.\n",
    "\n",
    "Since our goal is solely to evaluate the metrics of our model, there's no need to use a complex dataset or go through the entire process of exploratory data analysis and feature engineering. Instead, we’ll utilize the Breast Cancer toy dataset provided by scikit-learn, which is well-suited for this purpose."
   ]
  },
  {
   "cell_type": "code",
   "execution_count": 35,
   "metadata": {},
   "outputs": [
    {
     "name": "stdout",
     "output_type": "stream",
     "text": [
      "Test accuracy: 0.860\n",
      "Confusion Matrix:\n",
      " [[38  7]\n",
      " [ 9 60]]\n",
      "Precision: 0.896\n",
      "Recall: 0.870\n",
      "F1 Score: 0.882\n"
     ]
    }
   ],
   "source": [
    "from sklearn.model_selection import train_test_split\n",
    "from sklearn import datasets\n",
    "from sklearn.metrics import confusion_matrix, accuracy_score, precision_score, recall_score, f1_score\n",
    "\n",
    "# toy dataset from sklearn\n",
    "dataset = datasets.load_breast_cancer()\n",
    "X, y = dataset.data, dataset.target\n",
    "\n",
    "X_train, X_test, y_train, y_test = train_test_split(X, y, test_size=0.2, random_state=1234)\n",
    "regressor = logistic_regression(learning_rate=0.0001, iterations=1000)\n",
    "regressor.fit(X_train, y_train)\n",
    "predictions = regressor.predict(X_test)\n",
    "\n",
    "# metrics\n",
    "cm = confusion_matrix(y_test, predictions)\n",
    "accuracy = accuracy_score(y_test, predictions)\n",
    "precision = precision_score(y_test, predictions)\n",
    "recall = recall_score(y_test, predictions)\n",
    "f_score = f1_score(y_test, predictions)\n",
    "\n",
    "print(\"Test accuracy: {0:.3f}\".format(accuracy))\n",
    "print(\"Confusion Matrix:\\n\", cm)\n",
    "print(\"Precision: {0:.3f}\".format(precision))\n",
    "print(\"Recall: {0:.3f}\".format(recall))\n",
    "print(\"F1 Score: {0:.3f}\".format(f_score))\n"
   ]
  }
 ],
 "metadata": {
  "kernelspec": {
   "display_name": "Python 3",
   "language": "python",
   "name": "python3"
  },
  "language_info": {
   "codemirror_mode": {
    "name": "ipython",
    "version": 3
   },
   "file_extension": ".py",
   "mimetype": "text/x-python",
   "name": "python",
   "nbconvert_exporter": "python",
   "pygments_lexer": "ipython3",
   "version": "3.12.5"
  }
 },
 "nbformat": 4,
 "nbformat_minor": 2
}
